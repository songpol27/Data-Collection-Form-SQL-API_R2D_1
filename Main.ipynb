{
 "cells": [
  {
   "cell_type": "code",
   "execution_count": 1,
   "metadata": {},
   "outputs": [],
   "source": [
    "import os"
   ]
  },
  {
   "cell_type": "code",
   "execution_count": 2,
   "metadata": {},
   "outputs": [
    {
     "name": "stdout",
     "output_type": "stream",
     "text": [
      "3306\n"
     ]
    }
   ],
   "source": [
    "class Config:\n",
    "  MYSQL_HOST = '34.136.184.58'\n",
    "  MYSQL_PORT = 3306\n",
    "  MYSQL_USER = os.environ.get('MYSQL_USER')\n",
    "  MYSQL_PASSWORD = os.environ.get('MYSQL_PASSWORD')\n",
    "  MYSQL_DB = 'r2de2'\n",
    "  MYSQL_CHARSET = 'utf8mb4'\n",
    "\n",
    "# Test print form config\n",
    "print(Config.MYSQL_PORT)"
   ]
  },
  {
   "cell_type": "code",
   "execution_count": 3,
   "metadata": {},
   "outputs": [],
   "source": [
    "import pymysql\n",
    "\n",
    "# Connect to the database\n",
    "connection = pymysql.connect(host=Config.MYSQL_HOST,\n",
    "                             port=Config.MYSQL_PORT,\n",
    "                             user=Config.MYSQL_USER,\n",
    "                             password=Config.MYSQL_PASSWORD,\n",
    "                             db=Config.MYSQL_DB,\n",
    "                             charset=Config.MYSQL_CHARSET,\n",
    "                             cursorclass=pymysql.cursors.DictCursor)"
   ]
  },
  {
   "cell_type": "code",
   "execution_count": 4,
   "metadata": {},
   "outputs": [
    {
     "data": {
      "text/plain": [
       "<pymysql.connections.Connection at 0x1c7609d5cc0>"
      ]
     },
     "execution_count": 4,
     "metadata": {},
     "output_type": "execute_result"
    }
   ],
   "source": [
    "connection"
   ]
  },
  {
   "cell_type": "code",
   "execution_count": 7,
   "metadata": {},
   "outputs": [
    {
     "name": "stdout",
     "output_type": "stream",
     "text": [
      "[{'Tables_in_r2de2': 'audible_data'}, {'Tables_in_r2de2': 'audible_transaction'}]\n"
     ]
    }
   ],
   "source": [
    "# list all tables via SQL command show tables\n",
    "cursor = connection.cursor()\n",
    "cursor.execute(\"show tables;\")\n",
    "tables = cursor.fetchall()\n",
    "cursor.close()\n",
    "print(tables)"
   ]
  },
  {
   "cell_type": "code",
   "execution_count": 8,
   "metadata": {},
   "outputs": [
    {
     "name": "stdout",
     "output_type": "stream",
     "text": [
      "number of result_audible_data:  2269\n",
      "number of result_audible_transaction:  1998821\n"
     ]
    }
   ],
   "source": [
    "#Get Data From SQL server \n",
    "with connection.cursor() as cursor:\n",
    "    cursor.execute(\"SELECT * FROM audible_data\")\n",
    "    result_audible_data = cursor.fetchall()\n",
    "\n",
    "with connection.cursor() as cursor:\n",
    "    cursor.execute(\"SELECT * FROM audible_transaction\")\n",
    "    result_audible_transaction = cursor.fetchall()\n",
    "\n",
    "\n",
    "print(\"number of result_audible_data: \", len(result_audible_data))\n",
    "print(\"number of result_audible_transaction: \", len(result_audible_transaction))"
   ]
  }
 ],
 "metadata": {
  "kernelspec": {
   "display_name": "Python 3",
   "language": "python",
   "name": "python3"
  },
  "language_info": {
   "codemirror_mode": {
    "name": "ipython",
    "version": 3
   },
   "file_extension": ".py",
   "mimetype": "text/x-python",
   "name": "python",
   "nbconvert_exporter": "python",
   "pygments_lexer": "ipython3",
   "version": "3.10.2"
  },
  "orig_nbformat": 4,
  "vscode": {
   "interpreter": {
    "hash": "b5f128a601985069cda7354d061adb760671e89e0e1ba5f05e512c7b22c40b3f"
   }
  }
 },
 "nbformat": 4,
 "nbformat_minor": 2
}
